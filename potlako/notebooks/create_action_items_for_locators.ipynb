{
 "cells": [
  {
   "cell_type": "code",
   "execution_count": 1,
   "metadata": {
    "ExecuteTime": {
     "end_time": "2023-05-15T08:55:16.322193Z",
     "start_time": "2023-05-15T08:55:12.379245Z"
    },
    "collapsed": true
   },
   "outputs": [
    {
     "name": "stdout",
     "output_type": "stream",
     "text": [
      "  * Reading config from potlako.ini\n",
      "Loading Data Encryption (init)...\n",
      " * loading keys from /Users/samuelkabelo/source/potlako_repos/potlako/crypto_fields\n",
      " * loading rsa.restricted.public ... Done.\n",
      " * loading rsa.restricted.private ... Done.\n",
      " * loading rsa.local.public ... Done.\n",
      " * loading rsa.local.private ... Done.\n",
      " * loading aes.local ... Done.\n",
      " * loading aes.restricted ... Done.\n",
      " * loading salt.local ... Done.\n",
      " * loading salt.restricted ... Done.\n",
      " Done loading Data Encryption (init)...\n"
     ]
    },
    {
     "name": "stderr",
     "output_type": "stream",
     "text": [
      "/Users/samuelkabelo/.venvs/potlako/lib/python3.11/site-packages/django_q/conf.py:139: UserWarning: Retry and timeout are misconfigured. Set retry larger than timeout, \n",
      "        failure to do so will cause the tasks to be retriggered before completion. \n",
      "        See https://django-q.readthedocs.io/en/latest/configure.html#retry for details.\n",
      "  warn(\n",
      "/Users/samuelkabelo/.venvs/potlako/lib/python3.11/site-packages/simple_history/models.py:164: UserWarning: HistoricalRecords added to abstract model (HistoryManagerMixin) without inherit=True\n",
      "  warnings.warn(msg, UserWarning)\n",
      "/Users/samuelkabelo/.venvs/potlako/lib/python3.11/site-packages/simple_history/models.py:164: UserWarning: HistoricalRecords added to abstract model (ScheduleModelMixin) without inherit=True\n",
      "  warnings.warn(msg, UserWarning)\n",
      "/Users/samuelkabelo/.venvs/potlako/lib/python3.11/site-packages/simple_history/models.py:164: UserWarning: HistoricalRecords added to abstract model (VisitModelMixin) without inherit=True\n",
      "  warnings.warn(msg, UserWarning)\n",
      "/Users/samuelkabelo/.venvs/potlako/lib/python3.11/site-packages/simple_history/models.py:164: UserWarning: HistoricalRecords added to abstract model (CrfModelMixin) without inherit=True\n",
      "  warnings.warn(msg, UserWarning)\n"
     ]
    },
    {
     "name": "stdout",
     "output_type": "stream",
     "text": [
      "Loading Data Encryption ...\n",
      " * found encryption keys in /Users/samuelkabelo/source/potlako_repos/potlako/crypto_fields.\n",
      " * using model django_crypto_fields.crypt.\n",
      " Done loading Data Encryption.\n",
      "Revision: 0.2.23-13-gda0cb91:analysis:da0cb9105fe2596a3fb640cc1cfaccc1510a10e2\n",
      "Loading EDC Call Manager ...\n",
      " * call models are in app edc_call_manager.\n",
      " * checking for site model_callers ...\n",
      " * registered model caller '<class 'potlako_follow.model_callers.model_callers.WorkListFollowUpModelCaller'>'\n",
      " * registered model caller '<class 'potlako_follow.model_callers.model_callers.NavigationWorkListFollowUpModelCaller'>'\n",
      " Done loading EDC Call Manager.\n",
      "Loading Edc Consent ...\n",
      " * checking for site consents ...\n",
      " * registered consents 'consents' from 'potlako_subject'\n",
      " * potlako_subject.subjectconsent 1 covering 2020-03-01 UTC to 2025-12-01 UTC\n",
      " Done loading Edc Consent.\n",
      " * checking for site prn_forms ...\n",
      "Loading Edc Device ...                        \n",
      "  * device id is '99'.\n",
      "  * device role is 'CentralServer'.\n",
      " Done loading Edc Device.\n",
      "Loading Edc Lab ...\n",
      " * checking for labs ...\n",
      " Done loading Edc Lab.\n",
      "Loading Edc Reference ...\n",
      " * checking for reference_model_configs ...\n",
      " * checking for labs ...\n",
      " * registered reference model configs from application 'potlako_reference'\n",
      " Done loading Edc Reference.\n",
      "Loading edc_metadata_rules ...\n",
      " * checking for metadata_rules ...\n",
      "   - imported metadata rules from 'potlako_metadata_rules.metadata_rules'\n",
      " Done loading edc_metadata_rules.\n",
      "Loading Edc Navbar ...\n",
      " * checking for site navbars ...\n",
      " * searching edc_consent                    \r"
     ]
    },
    {
     "name": "stderr",
     "output_type": "stream",
     "text": [
      "/Users/samuelkabelo/.venvs/potlako/lib/python3.11/site-packages/_distutils_hack/__init__.py:33: UserWarning: Setuptools is replacing distutils.\n",
      "  warnings.warn(\"Setuptools is replacing distutils.\")\n"
     ]
    },
    {
     "name": "stdout",
     "output_type": "stream",
     "text": [
      " * registered navbars 'navbars' from 'edc_consent'\n",
      " * registered navbars 'navbars' from 'edc_device'\n",
      " * registered navbars 'navbars' from 'edc_reference'\n",
      " * registered navbars 'navbars' from 'edc_navbar'\n",
      " * registered navbars 'navbars' from 'edc_label'\n",
      " * registered navbars 'navbars' from 'edc_visit_schedule'\n",
      " * registered navbars 'navbars' from 'edc_calendar'\n",
      " * registered navbars 'navbars' from 'potlako_dashboard'\n",
      " * registered navbars 'navbars' from 'potlako_follow'\n",
      " * registered navbars 'navbars' from 'potlako_reports'\n",
      " * registered navbars 'navbars' from 'edc_data_manager'\n",
      " * registered navbars 'navbars' from 'edc_base'\n",
      " * registered navbars 'navbars' from 'edc_protocol'\n",
      " * registered navbars 'navbars' from 'edc_sync'\n",
      " * registered navbars 'navbars' from 'edc_sms'\n",
      " * registered navbars 'navbars' from 'potlako'\n",
      " Done loading Edc Navbar.       \n",
      "Loading Edc Label ...\n",
      " Label template folder is /Users/samuelkabelo/source/potlako_repos/potlako/label_templates.\n",
      "Label template folder does not exist!\n",
      "Not loading label templates\n",
      " Done loading Edc Label.\n",
      "Loading Edc Registration ...\n",
      "  * using edc_registration.registeredsubject\n",
      " Done loading Edc Registration.\n",
      "Loading Visit Schedules ...\n",
      " * checking site for module 'visit_schedules' ...\n",
      " * registered visit schedule from 'potlako_visit_schedule'\n",
      " Done loading Visit Schedules.\n",
      "Loading Edc Timepoint ...\n",
      " * 'edc_appointment.appointment' is a timepoint model.\n",
      " * 'edc_appointment.historicalappointment' is a timepoint model.\n",
      " Done loading Edc Timepoint.\n",
      "Loading Edc Appointments ...\n",
      " * edc_appointment.appointment.\n",
      " Done loading Edc Appointments.\n",
      "Loading Edc Metadata ...\n",
      " * using default metadata models from 'edc_metadata'\n",
      " Done loading Edc Metadata.\n",
      "Loading Edc Base ...\n",
      " * default TIME_ZONE Africa/Gaborone.\n",
      " Done loading Edc Base.\n",
      "Loading Edc Protocol ...\n",
      " * BHP132: Potlako Plus.\n",
      " * Study opening date: 2020-03-01 UTC\n",
      " * Expected study closing date: 2025-12-01 UTC\n",
      " Done loading Edc Protocol.\n",
      "Loading Edc Visit Tracking ...\n",
      " * potlako_subject.subjectvisit uses model attr 'subject_visit'\n",
      " Done loading Edc Visit Tracking.\n",
      "Loading Data Synchronization ...\n",
      " * checking for models to register ...\n",
      " * registered models from 'edc_call_manager'.\n",
      " * registered models from 'edc_lab'.\n",
      " * registered models from 'edc_locator'.\n",
      " * registered models from 'edc_reference'.\n",
      " * registered models from 'edc_registration'.\n",
      " * registered models from 'edc_visit_schedule'.\n",
      " * registered models from 'potlako_follow'.\n",
      " * registered models from 'potlako_prn'.\n",
      " * registered models from 'potlako_subject'.\n",
      " * registered models from 'edc_appointment'.\n",
      " * registered models from 'edc_metadata'.\n",
      " * registered models from 'edc_identifier'.\n",
      " Done loading Data Synchronization.\n",
      "Loading File support for data synchronization ...\n",
      "Done loading File support for data synchronization.\n",
      "Loading Edc Facility ...\n",
      " * 7-Day Clinic MO(100 slots), TU(100 slots), WE(100 slots), TH(100 slots), FR(100 slots), SA(100 slots), SU(100 slots).\n",
      " * 5-Day Clinic MO(100 slots), TU(100 slots), WE(100 slots), TH(100 slots), FR(100 slots).\n",
      " Done loading Edc Facility.\n",
      "Loading Edc Identifier ...\n",
      " * identifier prefix: 132\n",
      " * check-digit modulus: 7\n",
      " Done loading Edc Identifier\n"
     ]
    }
   ],
   "source": [
    "import os\n",
    "import sys\n",
    "import django\n",
    "\n",
    "sys.path.append('../..')\n",
    "os.environ.setdefault('DJANGO_SETTINGS_MODULE', 'potlako.settings')\n",
    "os.environ[\"DJANGO_ALLOW_ASYNC_UNSAFE\"] = \"true\"\n",
    "django.setup()\n"
   ]
  },
  {
   "cell_type": "code",
   "execution_count": 42,
   "metadata": {
    "ExecuteTime": {
     "end_time": "2023-05-15T09:30:31.737603Z",
     "start_time": "2023-05-15T09:30:27.287004Z"
    },
    "collapsed": false
   },
   "outputs": [],
   "source": [
    "from edc_action_item import site_action_items\n",
    "from potlako_subject.action_items import SUBJECT_LOCATOR_ACTION\n",
    "from edc_action_item.models import ActionItem\n",
    "from edc_action_item.action import ActionItemGetter\n",
    "from potlako_subject.models import SubjectLocator\n"
   ]
  },
  {
   "cell_type": "code",
   "execution_count": 88,
   "metadata": {},
   "outputs": [],
   "source": [
    "\"\"\"\n",
    "    Creates ActionItems based on SubjectLocators.\n",
    "    This function retrieves all SubjectLocator objects from the database,\n",
    "    and for each one, attempts to retrieve a corresponding ActionItem object.\n",
    "    If no ActionItem object is found, a new one is created and associated with the SubjectLocator. Once a SubjectLocator object is saved, the new ActionItem object is set to CLOSED\n",
    "    If an ActionItem object already exists, no action is taken.\n",
    "    pass:\n",
    "\n",
    "\"\"\"\n",
    "def create_action_items():\n",
    "\n",
    "    locators = SubjectLocator.objects.all()\n",
    "    action_item_cls = ActionItemGetter.action_item_model_cls()\n",
    "    action_cls = site_action_items.get(SUBJECT_LOCATOR_ACTION)\n",
    "\n",
    "    for locator in locators:\n",
    "        try:\n",
    "            action_item_obj = action_item_cls.objects.get(\n",
    "                action_identifier=locator.action_identifier)\n",
    "        except ActionItem.DoesNotExist:\n",
    "            action_item_obj = action_item_cls.objects.create(\n",
    "                action_type=locator.action_cls.action_type())\n",
    "            locator.action_identifier = action_item_obj.action_identifier\n",
    "            locator.save()\n",
    "        else:\n",
    "            pass\n"
   ]
  },
  {
   "cell_type": "code",
   "execution_count": null,
   "metadata": {},
   "outputs": [],
   "source": [
    "create_action_items()\n"
   ]
  },
  {
   "cell_type": "code",
   "execution_count": null,
   "metadata": {},
   "outputs": [],
   "source": []
  }
 ],
 "metadata": {
  "kernelspec": {
   "display_name": "Python 3",
   "language": "python",
   "name": "python3"
  },
  "language_info": {
   "codemirror_mode": {
    "name": "ipython",
    "version": 3
   },
   "file_extension": ".py",
   "mimetype": "text/x-python",
   "name": "python",
   "nbconvert_exporter": "python",
   "pygments_lexer": "ipython3",
   "version": "3.11.3"
  }
 },
 "nbformat": 4,
 "nbformat_minor": 0
}
